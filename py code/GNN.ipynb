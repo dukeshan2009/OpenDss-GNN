{
 "cells": [
  {
   "cell_type": "code",
   "execution_count": 3,
   "metadata": {},
   "outputs": [
    {
     "name": "stdout",
     "output_type": "stream",
     "text": [
      "邻接矩阵 A:\n",
      "[[0 1 0 ... 0 0 0]\n",
      " [1 0 1 ... 0 0 0]\n",
      " [0 1 0 ... 0 0 0]\n",
      " ...\n",
      " [0 0 0 ... 0 0 0]\n",
      " [0 0 0 ... 0 0 0]\n",
      " [0 0 0 ... 0 0 0]]\n"
     ]
    },
    {
     "data": {
      "text/plain": [
       "(123, 123)"
      ]
     },
     "execution_count": 3,
     "metadata": {},
     "output_type": "execute_result"
    }
   ],
   "source": [
    "import pandas as pd\n",
    "import numpy as np\n",
    "\n",
    "# 读取CSV文件\n",
    "file_path = 'extracted_line_data.csv'\n",
    "data = pd.read_csv(file_path)\n",
    "\n",
    "# 提取 'Exact Bus1' 和 'Exact Bus2' 列的唯一值并生成索引字典\n",
    "unique_values = pd.concat([data['Exact Bus1'], data['Exact Bus2']]).drop_duplicates().tolist()\n",
    "value_dict = {value: idx for idx, value in enumerate(unique_values)}\n",
    "\n",
    "# 初始化邻接矩阵\n",
    "n = len(value_dict)  # 唯一值的数量决定矩阵大小\n",
    "adj_matrix = np.zeros((n, n), dtype=int)\n",
    "\n",
    "# 遍历每一行并更新邻接矩阵\n",
    "for _, row in data.iterrows():\n",
    "    idx1 = value_dict[row['Exact Bus1']]\n",
    "    idx2 = value_dict[row['Exact Bus2']]\n",
    "    adj_matrix[idx1, idx2] = 1  # 设置连接关系\n",
    "    adj_matrix[idx2, idx1] = 1  # 矩阵对称\n",
    "\n",
    "# 打印邻接矩阵\n",
    "print(\"邻接矩阵 A:\")\n",
    "print(adj_matrix)\n",
    "adj_matrix.shape\n"
   ]
  },
  {
   "cell_type": "code",
   "execution_count": 4,
   "metadata": {},
   "outputs": [
    {
     "name": "stdout",
     "output_type": "stream",
     "text": [
      "边列表（Edge List）:\n",
      "[[ 55  72  24  44  16  40  63  56   7  41  59  18  25  14  20  12  74   5\n",
      "   15  13   7  35  42  14  48   9  75  27  12   5  22  77  48  49  13  44\n",
      "   45  55  47  78  51  46  22  23  57  39  73  72  50  52  74  53  53   8\n",
      "   30  25  26  31  17  10  27  37  54   1  28  64   6  15   5  51  60  38\n",
      "   29   1  33   9   2  32  29  61  44   1   2  62  67  58  35  44  68  19\n",
      "   11  60   4  43  59  69  26   0  76  10  65   8  36  37  33  61  69  70\n",
      "   22  39  34   3  66  62  23  71  76   9]\n",
      " [ 57  73  97  45  93  41 116 110  10  42 112  19  98  15  95  91  75  85\n",
      "   16  92  21  37  43  17  49  21  76  29  13   7  23  78  51  50  14  81\n",
      "   46  56 107 122  52  47  25  24 111 105 119  74 108  53 120 109  54  86\n",
      "   31  26  27  32  18  12  28  39  55  82 100  65   8  20   6  58  61 104\n",
      "  101   2  80  89  83 102  30  62  64   4   3  63 117  59  36  48  69  94\n",
      "   90 113   5 106  60  70  99   1 121  11  66  87 103  38  34 114  72  71\n",
      "   79  40  35  84  67 115  96 118  77  88]]\n"
     ]
    },
    {
     "data": {
      "text/plain": [
       "(2, 118)"
      ]
     },
     "execution_count": 4,
     "metadata": {},
     "output_type": "execute_result"
    }
   ],
   "source": [
    "import numpy as np\n",
    "\n",
    "# 假设邻接矩阵 adj_matrix 已经生成\n",
    "# 提取非零元素的行和列索引\n",
    "rows, cols = np.where(adj_matrix == 1)\n",
    "\n",
    "# 避免重复（由于无向图，A[i, j] 和 A[j, i] 是对称的）\n",
    "edges = set()\n",
    "for r, c in zip(rows, cols):\n",
    "    if r < c:  # 确保只添加一次 (i, j)，避免重复\n",
    "        edges.add((r, c))\n",
    "\n",
    "# 转换为 numpy 数组\n",
    "edge_list = np.array(list(edges)).T  # 转置为 2 × N 格式\n",
    "\n",
    "# 打印结果\n",
    "print(\"边列表（Edge List）:\")\n",
    "print(edge_list)\n",
    "edge_list.shape"
   ]
  }
 ],
 "metadata": {
  "kernelspec": {
   "display_name": "ee_thesis",
   "language": "python",
   "name": "python3"
  },
  "language_info": {
   "codemirror_mode": {
    "name": "ipython",
    "version": 3
   },
   "file_extension": ".py",
   "mimetype": "text/x-python",
   "name": "python",
   "nbconvert_exporter": "python",
   "pygments_lexer": "ipython3",
   "version": "3.11.9"
  }
 },
 "nbformat": 4,
 "nbformat_minor": 2
}
